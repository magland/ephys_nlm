{
 "cells": [
  {
   "cell_type": "code",
   "execution_count": null,
   "metadata": {},
   "outputs": [],
   "source": [
    "%load_ext autoreload\n",
    "%autoreload 2"
   ]
  },
  {
   "cell_type": "code",
   "execution_count": null,
   "metadata": {},
   "outputs": [],
   "source": [
    "from ephys_nlm import ephys_nlm_v1, ephys_nlm_v1_opts\n",
    "\n",
    "import spikeextractors as se\n",
    "import spikewidgets as sw\n",
    "import matplotlib.pyplot as plt\n",
    "\n",
    "# Create a synthetic recording for purposes of demo\n",
    "recording, sorting_true = se.example_datasets.toy_example(duration=10, num_channels=4, K=20, seed=4)\n",
    "\n",
    "# Specify the denoising options\n",
    "opts = ephys_nlm_v1_opts(\n",
    "    multi_neighborhood=False, # False means all channels will be denoised in one neighborhood\n",
    "    block_size_sec=30, # Size of block in seconds -- each block is denoised separately\n",
    "    clip_size=30, # Size of a clip (aka snippet) in timepoints\n",
    "    sigma='auto', # Auto compute the noise level\n",
    "    sigma_scale_factor=1, # Scale factor for auto-computed noise level\n",
    "    whitening='auto', # Auto compute the whitening matrix\n",
    "    whitening_pctvar=90, # Percent of variance to retain - controls number of SVD components to keep\n",
    "    denom_threshold=30 # Higher values lead to a slower but more accurate calculation.\n",
    ")\n",
    "\n",
    "# Do the denoising\n",
    "recording_denoised, runtim_info = ephys_nlm_v1(\n",
    "    recording=recording,\n",
    "    opts=opts,\n",
    "    device='cpu', # cuda is recommended for non-demo situations\n",
    "    verbose=1\n",
    ")"
   ]
  },
  {
   "cell_type": "code",
   "execution_count": null,
   "metadata": {},
   "outputs": [],
   "source": [
    "# View the original and denoised timeseries\n",
    "\n",
    "plt.figure(figsize=(16,5))\n",
    "sw.TimeseriesWidget(recording=recording, trange=(0, 0.2), ax=plt.gca()).plot();\n",
    "\n",
    "plt.figure(figsize=(16,5))\n",
    "sw.TimeseriesWidget(recording=recording_denoised, trange=(0, 0.2), ax=plt.gca()).plot();"
   ]
  },
  {
   "cell_type": "code",
   "execution_count": null,
   "metadata": {},
   "outputs": [],
   "source": []
  }
 ],
 "metadata": {
  "kernelspec": {
   "display_name": "Python 3",
   "language": "python",
   "name": "python3"
  },
  "language_info": {
   "codemirror_mode": {
    "name": "ipython",
    "version": 3
   },
   "file_extension": ".py",
   "mimetype": "text/x-python",
   "name": "python",
   "nbconvert_exporter": "python",
   "pygments_lexer": "ipython3",
   "version": "3.7.5"
  }
 },
 "nbformat": 4,
 "nbformat_minor": 4
}
